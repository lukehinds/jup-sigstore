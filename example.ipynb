{
 "cells": [
  {
   "cell_type": "markdown",
   "metadata": {},
   "source": [
    "# Jupyter Sigstore Integration Example\n",
    "\n",
    "This notebook demonstrates how to use the jup-sigstore package to sign and verify Hugging Face models."
   ]
  },
  {
   "cell_type": "code",
   "execution_count": null,
   "metadata": {},
   "source": [
    "from jup_sigstore import ModelSigner\n",
    "from transformers import AutoModel, AutoTokenizer\n",
    "import asyncio\n",
    "import json"
   ]
  },
  {
   "cell_type": "markdown",
   "metadata": {},
   "source": [
    "## Initialize the Signer\n",
    "\n",
    "You can initialize the signer with or without explicit credentials. If you have a service account JSON file, provide its path."
   ]
  },
  {
   "cell_type": "code",
   "execution_count": null,
   "metadata": {},
   "source": [
    "# Initialize without explicit credentials (will use default credentials)\n",
    "signer = ModelSigner()\n",
    "\n",
    "# Or with service account credentials\n",
    "# signer = ModelSigner(credentials_path=\"path/to/credentials.json\")"
   ]
  },
  {
   "cell_type": "markdown",
   "metadata": {},
   "source": [
    "## Load a Model\n",
    "\n",
    "Let's load a simple BERT model as an example."
   ]
  },
  {
   "cell_type": "code",
   "execution_count": null,
   "metadata": {},
   "source": [
    "model = AutoModel.from_pretrained(\"bert-base-uncased\")\n",
    "tokenizer = AutoTokenizer.from_pretrained(\"bert-base-uncased\")"
   ]
  },
  {
   "cell_type": "markdown",
   "metadata": {},
   "source": [
    "## Sign the Model\n",
    "\n",
    "Now we'll sign the model and its associated files."
   ]
  },
  {
   "cell_type": "code",
   "execution_count": null,
   "metadata": {},
   "source": [
    "result = asyncio.run(signer.sign_model(\n",
    "    model=model,\n",
    "    tokenizer=tokenizer,\n",
    "    save_path=\"./signed_model\"\n",
    "))\n",
    "\n",
    "print(\"Signing completed. Results:\")\n",
    "print(json.dumps(result, indent=2))"
   ]
  },
  {
   "cell_type": "markdown",
   "metadata": {},
   "source": [
    "## Verify the Model\n",
    "\n",
    "Finally, let's verify the signed model."
   ]
  },
  {
   "cell_type": "code",
   "execution_count": null,
   "metadata": {},
   "source": [
    "verification = asyncio.run(signer.verify_model(\"./signed_model\"))\n",
    "\n",
    "print(\"Verification results:\")\n",
    "for filename, result in verification:\n",
    "    print(f\"\\n{filename}:\")\n",
    "    print(f\"Verified: {result.success}\")\n",
    "    if result.success:\n",
    "        print(f\"Signed by: {result.signer}\")\n",
    "        print(f\"Timestamp: {result.timestamp}\")"
   ]
  }
 ],
 "metadata": {
  "kernelspec": {
   "display_name": "Python 3",
   "language": "python",
   "name": "python3"
  },
  "language_info": {
   "codemirror_mode": {
    "name": "ipython",
    "version": 3
   },
   "file_extension": ".py",
   "mimetype": "text/x-python",
   "name": "python",
   "nbconvert_exporter": "python",
   "pygments_lexer": "ipython3",
   "version": "3.8.0"
  }
 },
 "nbformat": 4,
 "nbformat_minor": 4
}
