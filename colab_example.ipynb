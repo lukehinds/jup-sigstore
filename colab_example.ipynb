{
 "cells": [
  {
   "cell_type": "markdown",
   "metadata": {},
   "source": [
    "# Jupyter Sigstore Integration Example (Google Colab)\n",
    "\n",
    "This notebook demonstrates how to use the jup-sigstore package to sign and verify Hugging Face models within Google Colab."
   ]
  },
  {
   "cell_type": "markdown",
   "metadata": {},
   "source": [
    "## Setup\n",
    "\n",
    "Install the core dependencies:"
   ]
  },
  {
   "cell_type": "code",
   "execution_count": null,
   "metadata": {},
   "source": [
    "# Install only the required packages without jupyter dependencies\n",
    "%pip install sigstore transformers google-auth google-auth-oauthlib nest-asyncio"
   ]
  },
  {
   "cell_type": "markdown",
   "metadata": {},
   "source": [
    "## Install the jup-sigstore package\n",
    "\n",
    "Install directly from GitHub without extra dependencies:"
   ]
  },
  {
   "cell_type": "code",
   "execution_count": null,
   "metadata": {},
   "source": [
    "%pip install git+https://github.com/yourusername/jup-sigstore.git"
   ]
  },
  {
   "cell_type": "markdown",
   "metadata": {},
   "source": [
    "## Import Dependencies"
   ]
  },
  {
   "cell_type": "code",
   "execution_count": null,
   "metadata": {},
   "source": [
    "from jup_sigstore import ModelSigner\n",
    "from transformers import AutoTokenizer\n",
    "from google.colab import auth\n",
    "import nest_asyncio\n",
    "import asyncio\n",
    "import json\n",
    "\n",
    "# Apply nest_asyncio to allow nested event loops\n",
    "nest_asyncio.apply()"
   ]
  },
  {
   "cell_type": "markdown",
   "metadata": {},
   "source": [
    "## Authenticate with Google\n",
    "\n",
    "This will use Colab's built-in authentication:"
   ]
  },
  {
   "cell_type": "code",
   "execution_count": null,
   "metadata": {},
   "source": [
    "auth.authenticate_user()"
   ]
  },
  {
   "cell_type": "markdown",
   "metadata": {},
   "source": [
    "## Initialize the Signer"
   ]
  },
  {
   "cell_type": "code",
   "execution_count": null,
   "metadata": {},
   "source": [
    "signer = ModelSigner()"
   ]
  },
  {
   "cell_type": "markdown",
   "metadata": {},
   "source": [
    "## Load and Sign a Model\n",
    "\n",
    "We'll use a simple tokenizer as an example:"
   ]
  },
  {
   "cell_type": "code",
   "execution_count": null,
   "metadata": {},
   "source": [
    "async def sign_tokenizer():\n",
    "    # Load tokenizer\n",
    "    tokenizer = AutoTokenizer.from_pretrained(\"bert-base-uncased\")\n",
    "    \n",
    "    # Sign the tokenizer files\n",
    "    result = await signer.sign_model(\n",
    "        tokenizer=tokenizer,\n",
    "        save_path=\"./signed_tokenizer\"\n",
    "    )\n",
    "    \n",
    "    print(\"\\nSigning completed. Results:\")\n",
    "    print(json.dumps(result, indent=2))\n",
    "    \n",
    "    return result\n",
    "\n",
    "# Run the signing process\n",
    "result = await sign_tokenizer()"
   ]
  },
  {
   "cell_type": "markdown",
   "metadata": {},
   "source": [
    "## Verify the Signed Files"
   ]
  },
  {
   "cell_type": "code",
   "execution_count": null,
   "metadata": {},
   "source": [
    "async def verify_signed_files():\n",
    "    verification = await signer.verify_model(\"./signed_tokenizer\")\n",
    "    \n",
    "    print(\"\\nVerification results:\")\n",
    "    for filename, result in verification:\n",
    "        print(f\"\\n{filename}:\")\n",
    "        print(f\"Verified: {result['success']}\")\n",
    "        if result['success']:\n",
    "            print(f\"Signed by: {result['signer']}\")\n",
    "            print(f\"Timestamp: {result['timestamp']}\")\n",
    "        else:\n",
    "            print(f\"Error: {result['error']}\")\n",
    "\n",
    "# Run the verification process\n",
    "await verify_signed_files()"
   ]
  }
 ],
 "metadata": {
  "kernelspec": {
   "display_name": "Python 3",
   "language": "python",
   "name": "python3"
  },
  "language_info": {
   "codemirror_mode": {
    "name": "ipython",
    "version": 3
   },
   "file_extension": ".py",
   "mimetype": "text/x-python",
   "name": "python",
   "nbconvert_exporter": "python",
   "pygments_lexer": "ipython3",
   "version": "3.8.0"
  }
 },
 "nbformat": 4,
 "nbformat_minor": 4
}